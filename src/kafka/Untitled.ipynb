{
 "cells": [
  {
   "cell_type": "code",
   "execution_count": 5,
   "id": "007800da",
   "metadata": {},
   "outputs": [],
   "source": [
    "from telemetry_class import Telemetry\n",
    "from kafka import KafkaProducer\n",
    "from pyspark.sql import SparkSession\n",
    "from pyspark.sql.functions import explode\n",
    "import json\n",
    "from datetime import datetime\n",
    "from json import dumps\n",
    "keys=[]\n",
    "results=[]\n",
    "summary_list=[]\n",
    "start_time=datetime.now()\n",
    "\n"
   ]
  },
  {
   "cell_type": "code",
   "execution_count": 6,
   "id": "a40aac5a",
   "metadata": {},
   "outputs": [],
   "source": [
    "spark=SparkSession.builder.appName(\"push-to-kafka\").config('spark.sql.debug.maxToStringFields', 1000).getOrCreate()"
   ]
  },
  {
   "cell_type": "code",
   "execution_count": 8,
   "id": "fc1fc3f5",
   "metadata": {},
   "outputs": [
    {
     "name": "stderr",
     "output_type": "stream",
     "text": [
      "                                                                                \r"
     ]
    }
   ],
   "source": [
    "telemetry=spark.read.json('../../data/2021-01-01-1-1609483435390.json.gz', encoding='utf-8')"
   ]
  },
  {
   "cell_type": "code",
   "execution_count": 9,
   "id": "82251d19",
   "metadata": {
    "scrolled": false
   },
   "outputs": [
    {
     "name": "stdout",
     "output_type": "stream",
     "text": [
      "root\n",
      " |-- @timestamp: string (nullable = true)\n",
      " |-- @version: string (nullable = true)\n",
      " |-- actor: struct (nullable = true)\n",
      " |    |-- id: string (nullable = true)\n",
      " |    |-- type: string (nullable = true)\n",
      " |-- context: struct (nullable = true)\n",
      " |    |-- cdata: array (nullable = true)\n",
      " |    |    |-- element: struct (containsNull = true)\n",
      " |    |    |    |-- id: string (nullable = true)\n",
      " |    |    |    |-- type: string (nullable = true)\n",
      " |    |-- channel: string (nullable = true)\n",
      " |    |-- did: string (nullable = true)\n",
      " |    |-- env: string (nullable = true)\n",
      " |    |-- pdata: struct (nullable = true)\n",
      " |    |    |-- id: string (nullable = true)\n",
      " |    |    |-- pid: string (nullable = true)\n",
      " |    |    |-- ver: string (nullable = true)\n",
      " |    |-- rollup: struct (nullable = true)\n",
      " |    |    |-- l1: string (nullable = true)\n",
      " |    |    |-- l2: string (nullable = true)\n",
      " |    |    |-- l3: string (nullable = true)\n",
      " |    |-- sid: string (nullable = true)\n",
      " |    |-- uid: string (nullable = true)\n",
      " |-- edata: struct (nullable = true)\n",
      " |    |-- commentid: string (nullable = true)\n",
      " |    |-- comments: string (nullable = true)\n",
      " |    |-- commenttxt: string (nullable = true)\n",
      " |    |-- data: string (nullable = true)\n",
      " |    |-- dir: string (nullable = true)\n",
      " |    |-- dspec: struct (nullable = true)\n",
      " |    |    |-- camera: string (nullable = true)\n",
      " |    |    |-- cpu: string (nullable = true)\n",
      " |    |    |-- edisk: double (nullable = true)\n",
      " |    |    |-- id: string (nullable = true)\n",
      " |    |    |-- idisk: double (nullable = true)\n",
      " |    |    |-- make: string (nullable = true)\n",
      " |    |    |-- os: string (nullable = true)\n",
      " |    |    |-- scrn: double (nullable = true)\n",
      " |    |    |-- sims: double (nullable = true)\n",
      " |    |    |-- webview: string (nullable = true)\n",
      " |    |-- duration: double (nullable = true)\n",
      " |    |-- extra: struct (nullable = true)\n",
      " |    |    |-- audience: array (nullable = true)\n",
      " |    |    |    |-- element: string (containsNull = true)\n",
      " |    |    |-- board: array (nullable = true)\n",
      " |    |    |    |-- element: string (containsNull = true)\n",
      " |    |    |-- contactType: string (nullable = true)\n",
      " |    |    |-- filters: struct (nullable = true)\n",
      " |    |    |    |-- audience: array (nullable = true)\n",
      " |    |    |    |    |-- element: string (containsNull = true)\n",
      " |    |    |    |-- board: array (nullable = true)\n",
      " |    |    |    |    |-- element: string (containsNull = true)\n",
      " |    |    |    |-- channel: array (nullable = true)\n",
      " |    |    |    |    |-- element: string (containsNull = true)\n",
      " |    |    |    |-- gradeLevel: array (nullable = true)\n",
      " |    |    |    |    |-- element: string (containsNull = true)\n",
      " |    |    |    |-- key: string (nullable = true)\n",
      " |    |    |    |-- medium: array (nullable = true)\n",
      " |    |    |    |    |-- element: string (containsNull = true)\n",
      " |    |    |    |-- selectedTab: string (nullable = true)\n",
      " |    |    |    |-- subject: array (nullable = true)\n",
      " |    |    |    |    |-- element: string (containsNull = true)\n",
      " |    |    |-- form: struct (nullable = true)\n",
      " |    |    |    |-- id: string (nullable = true)\n",
      " |    |    |    |-- identifier: string (nullable = true)\n",
      " |    |    |    |-- name: string (nullable = true)\n",
      " |    |    |    |-- type: string (nullable = true)\n",
      " |    |    |    |-- value: string (nullable = true)\n",
      " |    |    |-- gradeLevel: array (nullable = true)\n",
      " |    |    |    |-- element: string (containsNull = true)\n",
      " |    |    |-- isError: string (nullable = true)\n",
      " |    |    |-- key: string (nullable = true)\n",
      " |    |    |-- medium: array (nullable = true)\n",
      " |    |    |    |-- element: string (containsNull = true)\n",
      " |    |    |-- pos: array (nullable = true)\n",
      " |    |    |    |-- element: string (containsNull = true)\n",
      " |    |    |-- query: string (nullable = true)\n",
      " |    |    |-- section: string (nullable = true)\n",
      " |    |    |-- stageProgress: struct (nullable = true)\n",
      " |    |    |    |-- id: string (nullable = true)\n",
      " |    |    |    |-- progress: string (nullable = true)\n",
      " |    |    |-- subject: array (nullable = true)\n",
      " |    |    |    |-- element: string (containsNull = true)\n",
      " |    |    |-- template_id: string (nullable = true)\n",
      " |    |    |-- value: string (nullable = true)\n",
      " |    |    |-- values: string (nullable = true)\n",
      " |    |-- filters: struct (nullable = true)\n",
      " |    |    |-- $or: struct (nullable = true)\n",
      " |    |    |    |-- email: string (nullable = true)\n",
      " |    |    |    |-- phone: string (nullable = true)\n",
      " |    |    |    |-- prevUsedEmail: string (nullable = true)\n",
      " |    |    |    |-- prevUsedPhone: string (nullable = true)\n",
      " |    |    |-- additionalCategories: string (nullable = true)\n",
      " |    |    |-- audience: array (nullable = true)\n",
      " |    |    |    |-- element: string (containsNull = true)\n",
      " |    |    |-- batchId: string (nullable = true)\n",
      " |    |    |-- batches.createdFor: array (nullable = true)\n",
      " |    |    |    |-- element: string (containsNull = true)\n",
      " |    |    |-- batches.enrollmentType: string (nullable = true)\n",
      " |    |    |-- batches.status: string (nullable = true)\n",
      " |    |    |-- board: string (nullable = true)\n",
      " |    |    |-- channel: string (nullable = true)\n",
      " |    |    |-- childNodes: array (nullable = true)\n",
      " |    |    |    |-- element: string (containsNull = true)\n",
      " |    |    |-- compatibilityLevel: struct (nullable = true)\n",
      " |    |    |    |-- max: long (nullable = true)\n",
      " |    |    |    |-- min: long (nullable = true)\n",
      " |    |    |-- contentType: string (nullable = true)\n",
      " |    |    |-- courseId: string (nullable = true)\n",
      " |    |    |-- courseName: string (nullable = true)\n",
      " |    |    |-- createdBy: string (nullable = true)\n",
      " |    |    |-- createdFor: array (nullable = true)\n",
      " |    |    |    |-- element: string (containsNull = true)\n",
      " |    |    |-- defaultSortBy: string (nullable = true)\n",
      " |    |    |-- dialCode: string (nullable = true)\n",
      " |    |    |-- dialcodes: string (nullable = true)\n",
      " |    |    |-- email: string (nullable = true)\n",
      " |    |    |-- enrollmentType: string (nullable = true)\n",
      " |    |    |-- externalId: string (nullable = true)\n",
      " |    |    |-- framework: struct (nullable = true)\n",
      " |    |    |    |-- NE: string (nullable = true)\n",
      " |    |    |-- fuzzy: struct (nullable = true)\n",
      " |    |    |    |-- firstName: string (nullable = true)\n",
      " |    |    |-- gradeLevel: string (nullable = true)\n",
      " |    |    |-- hashTagId: array (nullable = true)\n",
      " |    |    |    |-- element: string (containsNull = true)\n",
      " |    |    |-- id: array (nullable = true)\n",
      " |    |    |    |-- element: string (containsNull = true)\n",
      " |    |    |-- identifier: string (nullable = true)\n",
      " |    |    |-- isDeleted: string (nullable = true)\n",
      " |    |    |-- isRootOrg: boolean (nullable = true)\n",
      " |    |    |-- l1Parent: string (nullable = true)\n",
      " |    |    |-- language: array (nullable = true)\n",
      " |    |    |    |-- element: string (containsNull = true)\n",
      " |    |    |-- mediaType: array (nullable = true)\n",
      " |    |    |    |-- element: string (containsNull = true)\n",
      " |    |    |-- medium: string (nullable = true)\n",
      " |    |    |-- mimeType: string (nullable = true)\n",
      " |    |    |-- objectType: array (nullable = true)\n",
      " |    |    |    |-- element: string (containsNull = true)\n",
      " |    |    |-- organisations.roles: array (nullable = true)\n",
      " |    |    |    |-- element: string (containsNull = true)\n",
      " |    |    |-- parentId: string (nullable = true)\n",
      " |    |    |-- phone: string (nullable = true)\n",
      " |    |    |-- primaryCategory: string (nullable = true)\n",
      " |    |    |-- purpose: array (nullable = true)\n",
      " |    |    |    |-- element: string (containsNull = true)\n",
      " |    |    |-- referrer: string (nullable = true)\n",
      " |    |    |-- roles: array (nullable = true)\n",
      " |    |    |    |-- element: string (containsNull = true)\n",
      " |    |    |-- rootOrgId: string (nullable = true)\n",
      " |    |    |-- selectedContent: string (nullable = true)\n",
      " |    |    |-- slug: string (nullable = true)\n",
      " |    |    |-- status: string (nullable = true)\n",
      " |    |    |-- subject: string (nullable = true)\n",
      " |    |    |-- topic: array (nullable = true)\n",
      " |    |    |    |-- element: string (containsNull = true)\n",
      " |    |    |-- trackable.enabled: string (nullable = true)\n",
      " |    |    |-- type: string (nullable = true)\n",
      " |    |    |-- userId: string (nullable = true)\n",
      " |    |    |-- userName: string (nullable = true)\n",
      " |    |    |-- visibility: string (nullable = true)\n",
      " |    |-- id: string (nullable = true)\n",
      " |    |-- index: double (nullable = true)\n",
      " |    |-- item: struct (nullable = true)\n",
      " |    |    |-- desc: string (nullable = true)\n",
      " |    |    |-- exlength: double (nullable = true)\n",
      " |    |    |-- id: string (nullable = true)\n",
      " |    |    |-- maxscore: double (nullable = true)\n",
      " |    |    |-- mc: array (nullable = true)\n",
      " |    |    |    |-- element: string (containsNull = true)\n",
      " |    |    |-- mmc: array (nullable = true)\n",
      " |    |    |    |-- element: string (containsNull = true)\n",
      " |    |    |-- params: array (nullable = true)\n",
      " |    |    |    |-- element: struct (containsNull = true)\n",
      " |    |    |    |    |-- 1: string (nullable = true)\n",
      " |    |    |    |    |-- 2: string (nullable = true)\n",
      " |    |    |    |    |-- 3: string (nullable = true)\n",
      " |    |    |    |    |-- 4: string (nullable = true)\n",
      " |    |    |    |    |-- 5: string (nullable = true)\n",
      " |    |    |    |    |-- 6: string (nullable = true)\n",
      " |    |    |    |    |-- answer: string (nullable = true)\n",
      " |    |    |    |    |-- eval: string (nullable = true)\n",
      " |    |    |    |    |-- lhs: string (nullable = true)\n",
      " |    |    |    |    |-- rhs: string (nullable = true)\n",
      " |    |    |-- title: string (nullable = true)\n",
      " |    |    |-- type: string (nullable = true)\n",
      " |    |    |-- uri: string (nullable = true)\n",
      " |    |-- items: array (nullable = true)\n",
      " |    |    |-- element: struct (containsNull = true)\n",
      " |    |    |    |-- id: string (nullable = true)\n",
      " |    |    |    |-- origin: struct (nullable = true)\n",
      " |    |    |    |    |-- id: string (nullable = true)\n",
      " |    |    |    |    |-- type: string (nullable = true)\n",
      " |    |    |    |-- type: string (nullable = true)\n",
      " |    |    |    |-- ver: string (nullable = true)\n",
      " |    |-- mode: string (nullable = true)\n",
      " |    |-- pageid: string (nullable = true)\n",
      " |    |-- pass: string (nullable = true)\n",
      " |    |-- plugin: struct (nullable = true)\n",
      " |    |    |-- category: string (nullable = true)\n",
      " |    |    |-- id: string (nullable = true)\n",
      " |    |    |-- ver: string (nullable = true)\n",
      " |    |-- prevstate: string (nullable = true)\n",
      " |    |-- props: array (nullable = true)\n",
      " |    |    |-- element: string (containsNull = true)\n",
      " |    |-- query: string (nullable = true)\n",
      " |    |-- rating: double (nullable = true)\n",
      " |    |-- resvalues: array (nullable = true)\n",
      " |    |    |-- element: struct (containsNull = true)\n",
      " |    |    |    |-- (A) is true but (R) is false.: string (nullable = true)\n",
      " |    |    |    |-- 0: string (nullable = true)\n",
      " |    |    |    |-- 1: string (nullable = true)\n",
      " |    |    |    |-- 1 and 3: string (nullable = true)\n",
      " |    |    |    |-- 2: string (nullable = true)\n",
      " |    |    |    |-- 3: string (nullable = true)\n",
      " |    |    |    |-- 4: string (nullable = true)\n",
      " |    |    |    |-- 5: string (nullable = true)\n",
      " |    |    |    |-- A-1 , B-2, C-3, D-4: string (nullable = true)\n",
      " |    |    |    |-- A-1, B-2, C-3, D-4: string (nullable = true)\n",
      " |    |    |    |-- A-2, B-4, C-1, D-3: string (nullable = true)\n",
      " |    |    |    |-- A-3, B-2, C-4, D-1: string (nullable = true)\n",
      " |    |    |    |-- A-4 , B-3, C-2, D-1: string (nullable = true)\n",
      " |    |    |    |-- A-4, B-2, C-1, D-3: string (nullable = true)\n",
      " |    |    |    |-- A-4, B-3, C-2, D-1: string (nullable = true)\n",
      " |    |    |    |-- All of these: string (nullable = true)\n",
      " |    |    |    |-- All the above: string (nullable = true)\n",
      " |    |    |    |-- Both (A) and (R) are true and (R) is the correct explanation of (A).: string (nullable = true)\n",
      " |    |    |    |-- Both (A) and (R) are true but (R) is not the correct explanation of (A).: string (nullable = true)\n",
      " |    |    |    |-- Dals: string (nullable = true)\n",
      " |    |    |    |-- Dilmun: string (nullable = true)\n",
      " |    |    |    |-- Mehrgarh: string (nullable = true)\n",
      " |    |    |    |-- Meluhha: string (nullable = true)\n",
      " |    |    |    |-- Milk: string (nullable = true)\n",
      " |    |    |    |-- None of the above: string (nullable = true)\n",
      " |    |    |    |-- Summer: string (nullable = true)\n",
      " |    |    |    |-- The first Palaeolithic tool was found at Gudiyam near Chennai in 1853: string (nullable = true)\n",
      " |    |    |    |-- four: string (nullable = true)\n",
      " |    |    |    |-- lhs: string (nullable = true)\n",
      " |    |    |    |-- rhs: string (nullable = true)\n",
      " |    |    |    |-- இணையானது.: string (nullable = true)\n",
      " |    |-- score: double (nullable = true)\n",
      " |    |-- size: double (nullable = true)\n",
      " |    |-- sort: struct (nullable = true)\n",
      " |    |    |-- batches.startDate: string (nullable = true)\n",
      " |    |    |-- createdDate: string (nullable = true)\n",
      " |    |    |-- lastPublishedOn: string (nullable = true)\n",
      " |    |    |-- lastUpdatedOn: string (nullable = true)\n",
      " |    |    |-- me_averageRating: string (nullable = true)\n",
      " |    |    |-- name: string (nullable = true)\n",
      " |    |-- state: string (nullable = true)\n",
      " |    |-- subtype: string (nullable = true)\n",
      " |    |-- summary: array (nullable = true)\n",
      " |    |    |-- element: struct (containsNull = true)\n",
      " |    |    |    |-- endpageseen: boolean (nullable = true)\n",
      " |    |    |    |-- progress: double (nullable = true)\n",
      " |    |    |    |-- totallength: string (nullable = true)\n",
      " |    |    |    |-- totalseekedlength: double (nullable = true)\n",
      " |    |    |    |-- visitedcontentend: boolean (nullable = true)\n",
      " |    |    |    |-- visitedlength: double (nullable = true)\n",
      " |    |-- target: struct (nullable = true)\n",
      " |    |    |-- id: string (nullable = true)\n",
      " |    |    |-- type: string (nullable = true)\n",
      " |    |    |-- ver: string (nullable = true)\n",
      " |    |-- topn: array (nullable = true)\n",
      " |    |    |-- element: struct (containsNull = true)\n",
      " |    |    |    |-- id: string (nullable = true)\n",
      " |    |    |    |-- identifier: string (nullable = true)\n",
      " |    |-- type: string (nullable = true)\n",
      " |    |-- uaspec: struct (nullable = true)\n",
      " |    |    |-- agent: string (nullable = true)\n",
      " |    |    |-- platform: string (nullable = true)\n",
      " |    |    |-- raw: string (nullable = true)\n",
      " |    |    |-- system: string (nullable = true)\n",
      " |    |    |-- ver: string (nullable = true)\n",
      " |    |-- uri: string (nullable = true)\n",
      " |    |-- values: array (nullable = true)\n",
      " |    |    |-- element: struct (containsNull = true)\n",
      " |    |    |    |-- 1: string (nullable = true)\n",
      " |    |    |    |-- 2: string (nullable = true)\n",
      " |    |    |    |-- 3: string (nullable = true)\n",
      " |    |    |    |-- key: string (nullable = true)\n",
      " |    |    |    |-- option: string (nullable = true)\n",
      " |    |    |    |-- option0: string (nullable = true)\n",
      " |    |    |    |-- option1: string (nullable = true)\n",
      " |    |    |    |-- option2: string (nullable = true)\n",
      " |    |    |    |-- option3: string (nullable = true)\n",
      " |    |    |    |-- option4: string (nullable = true)\n",
      " |    |-- visits: array (nullable = true)\n",
      " |    |    |-- element: struct (containsNull = true)\n",
      " |    |    |    |-- index: double (nullable = true)\n",
      " |    |    |    |-- objid: string (nullable = true)\n",
      " |    |    |    |-- objtype: string (nullable = true)\n",
      " |-- eid: string (nullable = true)\n",
      " |-- ets: double (nullable = true)\n",
      " |-- flags: struct (nullable = true)\n",
      " |    |-- ex_processed: boolean (nullable = true)\n",
      " |    |-- pp_duplicate_skipped: boolean (nullable = true)\n",
      " |    |-- pp_share_event_processed: boolean (nullable = true)\n",
      " |    |-- pp_validation_processed: boolean (nullable = true)\n",
      " |-- mid: string (nullable = true)\n",
      " |-- object: struct (nullable = true)\n",
      " |    |-- id: string (nullable = true)\n",
      " |    |-- rollup: struct (nullable = true)\n",
      " |    |    |-- l1: string (nullable = true)\n",
      " |    |    |-- l2: string (nullable = true)\n",
      " |    |    |-- l3: string (nullable = true)\n",
      " |    |    |-- l4: string (nullable = true)\n",
      " |    |    |-- l5: string (nullable = true)\n",
      " |    |    |-- l6: string (nullable = true)\n",
      " |    |-- type: string (nullable = true)\n",
      " |    |-- ver: string (nullable = true)\n",
      " |    |-- version: string (nullable = true)\n",
      " |-- syncts: long (nullable = true)\n",
      " |-- tags: array (nullable = true)\n",
      " |    |-- element: string (containsNull = true)\n",
      " |-- type: string (nullable = true)\n",
      " |-- ver: string (nullable = true)\n",
      "\n"
     ]
    }
   ],
   "source": [
    "# telemetry.printSchema()"
   ]
  },
  {
   "cell_type": "code",
   "execution_count": 17,
   "id": "0e1a11d9",
   "metadata": {},
   "outputs": [
    {
     "name": "stderr",
     "output_type": "stream",
     "text": [
      "                                                                                \r"
     ]
    },
    {
     "data": {
      "text/plain": [
       "930000"
      ]
     },
     "execution_count": 17,
     "metadata": {},
     "output_type": "execute_result"
    }
   ],
   "source": [
    "telemetry.count()"
   ]
  },
  {
   "cell_type": "code",
   "execution_count": 61,
   "id": "e11f832b",
   "metadata": {},
   "outputs": [],
   "source": [
    "metrics=telemetry.limit(5)"
   ]
  },
  {
   "cell_type": "code",
   "execution_count": 77,
   "id": "d6a786bd",
   "metadata": {},
   "outputs": [
    {
     "name": "stdout",
     "output_type": "stream",
     "text": [
      "DataFrame[@timestamp: string, @version: string, actor: struct<id:string,type:string>, context: struct<cdata:array<struct<id:string,type:string>>,channel:string,did:string,env:string,pdata:struct<id:string,pid:string,ver:string>,rollup:struct<l1:string,l2:string,l3:string>,sid:string,uid:string>, edata: struct<commentid:string,comments:string,commenttxt:string,data:string,dir:string,dspec:struct<camera:string,cpu:string,edisk:double,id:string,idisk:double,make:string,os:string,scrn:double,sims:double,webview:string>,duration:double,extra:struct<audience:array<string>,board:array<string>,contactType:string,filters:struct<audience:array<string>,board:array<string>,channel:array<string>,gradeLevel:array<string>,key:string,medium:array<string>,selectedTab:string,subject:array<string>>,form:struct<id:string,identifier:string,name:string,type:string,value:string>,gradeLevel:array<string>,isError:string,key:string,medium:array<string>,pos:array<string>,query:string,section:string,stageProgress:struct<id:string,progress:string>,subject:array<string>,template_id:string,value:string,values:string>,filters:struct<$or:struct<email:string,phone:string,prevUsedEmail:string,prevUsedPhone:string>,additionalCategories:string,audience:array<string>,batchId:string,batches.createdFor:array<string>,batches.enrollmentType:string,batches.status:string,board:string,channel:string,childNodes:array<string>,compatibilityLevel:struct<max:bigint,min:bigint>,contentType:string,courseId:string,courseName:string,createdBy:string,createdFor:array<string>,defaultSortBy:string,dialCode:string,dialcodes:string,email:string,enrollmentType:string,externalId:string,framework:struct<NE:string>,fuzzy:struct<firstName:string>,gradeLevel:string,hashTagId:array<string>,id:array<string>,identifier:string,isDeleted:string,isRootOrg:boolean,l1Parent:string,language:array<string>,mediaType:array<string>,medium:string,mimeType:string,objectType:array<string>,organisations.roles:array<string>,parentId:string,phone:string,primaryCategory:string,purpose:array<string>,referrer:string,roles:array<string>,rootOrgId:string,selectedContent:string,slug:string,status:string,subject:string,topic:array<string>,trackable.enabled:string,type:string,userId:string,userName:string,visibility:string>,id:string,index:double,item:struct<desc:string,exlength:double,id:string,maxscore:double,mc:array<string>,mmc:array<string>,params:array<struct<1:string,2:string,3:string,4:string,5:string,6:string,answer:string,eval:string,lhs:string,rhs:string>>,title:string,type:string,uri:string>,items:array<struct<id:string,origin:struct<id:string,type:string>,type:string,ver:string>>,mode:string,pageid:string,pass:string,plugin:struct<category:string,id:string,ver:string>,prevstate:string,props:array<string>,query:string,rating:double,resvalues:array<struct<(A) is true but (R) is false.:string,0:string,1:string,1 and 3:string,2:string,3:string,4:string,5:string,A-1 , B-2, C-3, D-4:string,A-1, B-2, C-3, D-4:string,A-2, B-4, C-1, D-3:string,A-3, B-2, C-4, D-1:string,A-4 , B-3, C-2, D-1:string,A-4, B-2, C-1, D-3:string,A-4, B-3, C-2, D-1:string,All of these:string,All the above:string,Both (A) and (R) are true and (R) is the correct explanation of (A).:string,Both (A) and (R) are true but (R) is not the correct explanation of (A).:string,Dals:string,Dilmun:string,Mehrgarh:string,Meluhha:string,Milk:string,None of the above:string,Summer:string,The first Palaeolithic tool was found at Gudiyam near Chennai in 1853:string,four:string,lhs:string,rhs:string,இணையானது.:string>>,score:double,size:double,sort:struct<batches.startDate:string,createdDate:string,lastPublishedOn:string,lastUpdatedOn:string,me_averageRating:string,name:string>,state:string,subtype:string,summary:array<struct<endpageseen:boolean,progress:double,totallength:string,totalseekedlength:double,visitedcontentend:boolean,visitedlength:double>>,target:struct<id:string,type:string,ver:string>,topn:array<struct<id:string,identifier:string>>,type:string,uaspec:struct<agent:string,platform:string,raw:string,system:string,ver:string>,uri:string,values:array<struct<1:string,2:string,3:string,key:string,option:string,option0:string,option1:string,option2:string,option3:string,option4:string>>,visits:array<struct<index:double,objid:string,objtype:string>>>, eid: string, ets: double, flags: struct<ex_processed:boolean,pp_duplicate_skipped:boolean,pp_share_event_processed:boolean,pp_validation_processed:boolean>, mid: string, object: struct<id:string,rollup:struct<l1:string,l2:string,l3:string,l4:string,l5:string,l6:string>,type:string,ver:string,version:string>, syncts: bigint, tags: array<string>, type: string, ver: string]\n"
     ]
    }
   ],
   "source": [
    " print(metrics)"
   ]
  },
  {
   "cell_type": "code",
   "execution_count": 65,
   "id": "f9c2fd9d",
   "metadata": {
    "scrolled": true
   },
   "outputs": [],
   "source": [
    "metrics.write.json('./filter/')\n"
   ]
  },
  {
   "cell_type": "code",
   "execution_count": 59,
   "id": "6832e9e5",
   "metadata": {},
   "outputs": [
    {
     "name": "stdout",
     "output_type": "stream",
     "text": [
      "DataFrame[@timestamp: string, @version: string, actor: struct<id:string,type:string>, context: struct<cdata:array<struct<id:string,type:string>>,channel:string,did:string,env:string,pdata:struct<id:string,pid:string,ver:string>,rollup:struct<l1:string,l2:string,l3:string>,sid:string,uid:string>, edata: struct<commentid:string,comments:string,commenttxt:string,data:string,dir:string,dspec:struct<camera:string,cpu:string,edisk:double,id:string,idisk:double,make:string,os:string,scrn:double,sims:double,webview:string>,duration:double,extra:struct<audience:array<string>,board:array<string>,contactType:string,filters:struct<audience:array<string>,board:array<string>,channel:array<string>,gradeLevel:array<string>,key:string,medium:array<string>,selectedTab:string,subject:array<string>>,form:struct<id:string,identifier:string,name:string,type:string,value:string>,gradeLevel:array<string>,isError:string,key:string,medium:array<string>,pos:array<string>,query:string,section:string,stageProgress:struct<id:string,progress:string>,subject:array<string>,template_id:string,value:string,values:string>,filters:struct<$or:struct<email:string,phone:string,prevUsedEmail:string,prevUsedPhone:string>,additionalCategories:string,audience:array<string>,batchId:string,batches.createdFor:array<string>,batches.enrollmentType:string,batches.status:string,board:string,channel:string,childNodes:array<string>,compatibilityLevel:struct<max:bigint,min:bigint>,contentType:string,courseId:string,courseName:string,createdBy:string,createdFor:array<string>,defaultSortBy:string,dialCode:string,dialcodes:string,email:string,enrollmentType:string,externalId:string,framework:struct<NE:string>,fuzzy:struct<firstName:string>,gradeLevel:string,hashTagId:array<string>,id:array<string>,identifier:string,isDeleted:string,isRootOrg:boolean,l1Parent:string,language:array<string>,mediaType:array<string>,medium:string,mimeType:string,objectType:array<string>,organisations.roles:array<string>,parentId:string,phone:string,primaryCategory:string,purpose:array<string>,referrer:string,roles:array<string>,rootOrgId:string,selectedContent:string,slug:string,status:string,subject:string,topic:array<string>,trackable.enabled:string,type:string,userId:string,userName:string,visibility:string>,id:string,index:double,item:struct<desc:string,exlength:double,id:string,maxscore:double,mc:array<string>,mmc:array<string>,params:array<struct<1:string,2:string,3:string,4:string,5:string,6:string,answer:string,eval:string,lhs:string,rhs:string>>,title:string,type:string,uri:string>,items:array<struct<id:string,origin:struct<id:string,type:string>,type:string,ver:string>>,mode:string,pageid:string,pass:string,plugin:struct<category:string,id:string,ver:string>,prevstate:string,props:array<string>,query:string,rating:double,resvalues:array<struct<(A) is true but (R) is false.:string,0:string,1:string,1 and 3:string,2:string,3:string,4:string,5:string,A-1 , B-2, C-3, D-4:string,A-1, B-2, C-3, D-4:string,A-2, B-4, C-1, D-3:string,A-3, B-2, C-4, D-1:string,A-4 , B-3, C-2, D-1:string,A-4, B-2, C-1, D-3:string,A-4, B-3, C-2, D-1:string,All of these:string,All the above:string,Both (A) and (R) are true and (R) is the correct explanation of (A).:string,Both (A) and (R) are true but (R) is not the correct explanation of (A).:string,Dals:string,Dilmun:string,Mehrgarh:string,Meluhha:string,Milk:string,None of the above:string,Summer:string,The first Palaeolithic tool was found at Gudiyam near Chennai in 1853:string,four:string,lhs:string,rhs:string,இணையானது.:string>>,score:double,size:double,sort:struct<batches.startDate:string,createdDate:string,lastPublishedOn:string,lastUpdatedOn:string,me_averageRating:string,name:string>,state:string,subtype:string,summary:array<struct<endpageseen:boolean,progress:double,totallength:string,totalseekedlength:double,visitedcontentend:boolean,visitedlength:double>>,target:struct<id:string,type:string,ver:string>,topn:array<struct<id:string,identifier:string>>,type:string,uaspec:struct<agent:string,platform:string,raw:string,system:string,ver:string>,uri:string,values:array<struct<1:string,2:string,3:string,key:string,option:string,option0:string,option1:string,option2:string,option3:string,option4:string>>,visits:array<struct<index:double,objid:string,objtype:string>>>, eid: string, ets: double, flags: struct<ex_processed:boolean,pp_duplicate_skipped:boolean,pp_share_event_processed:boolean,pp_validation_processed:boolean>, mid: string, object: struct<id:string,rollup:struct<l1:string,l2:string,l3:string,l4:string,l5:string,l6:string>,type:string,ver:string,version:string>, syncts: bigint, tags: array<string>, type: string, ver: string]\n"
     ]
    }
   ],
   "source": [
    " "
   ]
  },
  {
   "cell_type": "code",
   "execution_count": 32,
   "id": "f487972e",
   "metadata": {},
   "outputs": [],
   "source": [
    " "
   ]
  },
  {
   "cell_type": "code",
   "execution_count": 71,
   "id": "b0ae0f77",
   "metadata": {},
   "outputs": [],
   "source": [
    "metricsjson=json.dumps(json.load(open('./filter/data.json')))"
   ]
  },
  {
   "cell_type": "raw",
   "id": "48019a2b",
   "metadata": {},
   "source": []
  },
  {
   "cell_type": "code",
   "execution_count": 74,
   "id": "d6170c00",
   "metadata": {},
   "outputs": [
    {
     "name": "stdout",
     "output_type": "stream",
     "text": [
      "events pushed into kafka successfully\n"
     ]
    }
   ],
   "source": [
    "producer = KafkaProducer(bootstrap_servers=['localhost:9092'], value_serializer=lambda x: x.encode('utf-8'))\n",
    "producer.send('sb_telemetry', metricsjson)\n",
    "print(\"events pushed into kafka successfully\")"
   ]
  },
  {
   "cell_type": "code",
   "execution_count": 75,
   "id": "4c2792e4",
   "metadata": {},
   "outputs": [
    {
     "name": "stdout",
     "output_type": "stream",
     "text": [
      "[{\"@timestamp\": \"2021-01-01T06:06:04.240Z\", \"actor\": {\"id\": \"939f2ae5-d9cc-47c7-a961-3dce577211fa\", \"type\": \"User\"}, \"context\": {\"cdata\": [{\"id\": \"607ca980-4bf7-11eb-9aa3-8bad8b0879fc\", \"type\": \"API\"}, {\"id\": \"SearchResult\", \"type\": \"Section\"}, {\"id\": \"\", \"type\": \"CourseBatch\"}, {\"id\": \"do_31317601015225548814303\", \"type\": \"RootId\"}, {\"id\": \"c0df5d06-2fbd-4adc-9036-040457beb5ff\", \"type\": \"UserSession\"}], \"channel\": \"01248978648941363234\", \"did\": \"29bbe3e293f99602e14ee8a35b549b8c31584267\", \"env\": \"app\", \"pdata\": {\"id\": \"prod.diksha.app\", \"pid\": \"sunbird.app\", \"ver\": \"3.4.578\"}, \"rollup\": {\"l1\": \"01248978648941363234\"}, \"sid\": \"c0df5d06-2fbd-4adc-9036-040457beb5ff\"}, \"edata\": {\"extra\": {\"pos\": []}, \"id\": \"ImportContent\", \"pageid\": \"ImportContent\", \"subtype\": \"online\", \"type\": \"OTHER\"}, \"eid\": \"INTERACT\", \"ets\": 1609481147307.0, \"flags\": {\"ex_processed\": true, \"pp_duplicate_skipped\": true, \"pp_validation_processed\": true}, \"mid\": \"2fab96ab-60dd-472b-bb33-e17f86a105a5\", \"object\": {\"id\": \"do_31317601015225548814303\", \"rollup\": {}, \"type\": \"Course\", \"version\": \"2.0\"}, \"syncts\": 1609481164240, \"type\": \"events\", \"ver\": \"3.0\"}, {\"@timestamp\": \"2021-01-01T06:06:04.194Z\", \"actor\": {\"id\": \"44ba5237-647e-46d9-ae25-1b5a80d215e7\", \"type\": \"User\"}, \"context\": {\"cdata\": [{\"id\": \"bfb08f13-8d9a-4edf-b520-e406c2eeea4c\", \"type\": \"UserSession\"}], \"channel\": \"01246376237871104093\", \"did\": \"f8f3af5a350f1f22c466cadefbc9a75e40d385a4\", \"env\": \"home\", \"pdata\": {\"id\": \"prod.diksha.app\", \"pid\": \"sunbird.app\", \"ver\": \"3.4.578\"}, \"rollup\": {\"l1\": \"01246376237871104093\"}, \"sid\": \"bfb08f13-8d9a-4edf-b520-e406c2eeea4c\"}, \"edata\": {\"extra\": {\"pos\": [], \"values\": \"[{\\\"networkType\\\":\\\"4g\\\"}]\"}, \"id\": \"content-detail\", \"pageid\": \"content-detail\", \"subtype\": \"play-online\", \"type\": \"TOUCH\"}, \"eid\": \"INTERACT\", \"ets\": 1609479519331.0, \"flags\": {\"ex_processed\": true, \"pp_duplicate_skipped\": true, \"pp_validation_processed\": true}, \"mid\": \"996a688f-dafd-4739-b2ca-bc0df43baba7\", \"object\": {\"id\": \"do_31315459119905177612540\", \"rollup\": {\"l1\": \"do_31317811832992563211\", \"l2\": \"do_313178118333071360113\"}, \"type\": \"Explanation Content\", \"version\": \"1\"}, \"syncts\": 1609481164194, \"type\": \"events\", \"ver\": \"3.0\"}, {\"@timestamp\": \"2021-01-01T06:06:04.240Z\", \"actor\": {\"id\": \"939f2ae5-d9cc-47c7-a961-3dce577211fa\", \"type\": \"User\"}, \"context\": {\"cdata\": [{\"id\": \"607ca980-4bf7-11eb-9aa3-8bad8b0879fc\", \"type\": \"API\"}, {\"id\": \"SearchResult\", \"type\": \"Section\"}, {\"id\": \"\", \"type\": \"CourseBatch\"}, {\"id\": \"do_31317601015225548814303\", \"type\": \"RootId\"}, {\"id\": \"c0df5d06-2fbd-4adc-9036-040457beb5ff\", \"type\": \"UserSession\"}], \"channel\": \"01248978648941363234\", \"did\": \"29bbe3e293f99602e14ee8a35b549b8c31584267\", \"env\": \"home\", \"pdata\": {\"id\": \"prod.diksha.app\", \"pid\": \"sunbird.app\", \"ver\": \"3.4.578\"}, \"rollup\": {\"l1\": \"01248978648941363234\"}, \"sid\": \"c0df5d06-2fbd-4adc-9036-040457beb5ff\"}, \"edata\": {\"pageid\": \"course-detail\", \"type\": \"detail\", \"uri\": \"course-detail\"}, \"eid\": \"IMPRESSION\", \"ets\": 1609481146631.0, \"flags\": {\"ex_processed\": true, \"pp_duplicate_skipped\": true, \"pp_validation_processed\": true}, \"mid\": \"fd194d2a-7534-444b-8cd1-af7bb09a0842\", \"object\": {\"id\": \"do_31317601015225548814303\", \"rollup\": {\"l1\": \"do_31317601015225548814303\"}, \"type\": \"Course\", \"version\": \"2\"}, \"syncts\": 1609481164240, \"type\": \"events\", \"ver\": \"3.0\"}, {\"@timestamp\": \"2021-01-01T06:06:04.194Z\", \"actor\": {\"id\": \"44ba5237-647e-46d9-ae25-1b5a80d215e7\", \"type\": \"User\"}, \"context\": {\"cdata\": [{\"id\": \"https://diksha.gov.in\", \"type\": \"Source\"}, {\"id\": \"0131786397014097924\", \"type\": \"CourseBatch\"}, {\"id\": \"do_31317811832992563211\", \"type\": \"RootId\"}, {\"id\": \"80d8993a-4798-4ad5-afa3-bf844d947778\", \"type\": \"UserSession\"}], \"channel\": \"01246376237871104093\", \"did\": \"f8f3af5a350f1f22c466cadefbc9a75e40d385a4\", \"env\": \"home\", \"pdata\": {\"id\": \"prod.diksha.app\", \"pid\": \"sunbird.app\", \"ver\": \"3.4.578\"}, \"rollup\": {\"l1\": \"01246376237871104093\"}, \"sid\": \"80d8993a-4798-4ad5-afa3-bf844d947778\"}, \"edata\": {\"pageid\": \"course-detail\", \"type\": \"detail\", \"uri\": \"course-detail\"}, \"eid\": \"IMPRESSION\", \"ets\": 1609481064025.0, \"flags\": {\"ex_processed\": true, \"pp_duplicate_skipped\": true, \"pp_validation_processed\": true}, \"mid\": \"26e8e045-0849-422d-a44e-9b0d708bff61\", \"object\": {\"id\": \"do_31317811832992563211\", \"rollup\": {\"l1\": \"do_31317811832992563211\"}, \"type\": \"Course\", \"version\": \"1\"}, \"syncts\": 1609481164194, \"type\": \"events\", \"ver\": \"3.0\"}, {\"@timestamp\": \"2021-01-01T06:06:04.240Z\", \"actor\": {\"id\": \"939f2ae5-d9cc-47c7-a961-3dce577211fa\", \"type\": \"User\"}, \"context\": {\"cdata\": [{\"id\": \"607ca980-4bf7-11eb-9aa3-8bad8b0879fc\", \"type\": \"API\"}, {\"id\": \"SearchResult\", \"type\": \"Section\"}, {\"id\": \"\", \"type\": \"CourseBatch\"}, {\"id\": \"do_31317601015225548814303\", \"type\": \"RootId\"}, {\"id\": \"c0df5d06-2fbd-4adc-9036-040457beb5ff\", \"type\": \"UserSession\"}], \"channel\": \"01248978648941363234\", \"did\": \"29bbe3e293f99602e14ee8a35b549b8c31584267\", \"env\": \"sdk\", \"pdata\": {\"id\": \"prod.diksha.app\", \"pid\": \"sunbird.app\", \"ver\": \"3.4.578\"}, \"rollup\": {\"l1\": \"01248978648941363234\"}, \"sid\": \"c0df5d06-2fbd-4adc-9036-040457beb5ff\"}, \"edata\": {\"extra\": {\"pos\": []}, \"id\": \"ImportContent\", \"pageid\": \"ImportContent\", \"subtype\": \"ContentImport-Success\", \"type\": \"OTHER\"}, \"eid\": \"INTERACT\", \"ets\": 1609481151875.0, \"flags\": {\"ex_processed\": true, \"pp_duplicate_skipped\": true, \"pp_validation_processed\": true}, \"mid\": \"bf8f9d25-d8b8-48cb-b898-1e3e8cd59410\", \"object\": {\"id\": \"do_31317601015225548814303\", \"rollup\": {}, \"type\": \"Course\", \"version\": \"2\"}, \"syncts\": 1609481164240, \"type\": \"events\", \"ver\": \"3.0\"}]\n"
     ]
    }
   ],
   "source": [
    "print(metricsjson)"
   ]
  },
  {
   "cell_type": "code",
   "execution_count": null,
   "id": "c150e952",
   "metadata": {},
   "outputs": [],
   "source": []
  }
 ],
 "metadata": {
  "kernelspec": {
   "display_name": "Python 3 (ipykernel)",
   "language": "python",
   "name": "python3"
  },
  "language_info": {
   "codemirror_mode": {
    "name": "ipython",
    "version": 3
   },
   "file_extension": ".py",
   "mimetype": "text/x-python",
   "name": "python",
   "nbconvert_exporter": "python",
   "pygments_lexer": "ipython3",
   "version": "3.10.6"
  }
 },
 "nbformat": 4,
 "nbformat_minor": 5
}
